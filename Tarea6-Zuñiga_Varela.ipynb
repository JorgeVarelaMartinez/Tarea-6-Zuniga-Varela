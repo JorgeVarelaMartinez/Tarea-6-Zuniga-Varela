{
 "cells": [
  {
   "cell_type": "markdown",
   "metadata": {},
   "source": [
    "<img style=\"float: left; margin: 30px 15px 15px 15px;\" src=\"https://pngimage.net/wp-content/uploads/2018/06/logo-iteso-png-5.png\" width=\"300\" height=\"500\" /> \n",
    "    \n",
    "    \n",
    "### <font color='navy'> Simulación de procesos financieros. \n",
    "\n",
    "**Nombres:** Jorge Zuñiga y Jorge Varela.\n",
    "\n",
    "**Fecha:** 5 de Marzo del 2020.\n",
    "\n",
    "**Expediente** : 713559 y 715444.\n",
    "**Profesor:** Oscar David Jaramillo Zuluaga.\n",
    "\n",
    "# Tarea 6: Clase 9 y 10"
   ]
  },
  {
   "cell_type": "markdown",
   "metadata": {},
   "source": [
    "## <font color ='red'> Enunciado de la tarea\n",
    "Subir la tarea asignada en la clase 9 y 10, la cual se encuentra en los respectivos cuadernos de python del curso"
   ]
  },
  {
   "cell_type": "markdown",
   "metadata": {},
   "source": [
    "## <font color ='red'> Ejercicio 1\n",
    "Seguir un procedimiento similar al mostrado cuando se generó una distribución binomial, pero en esta caso genere un código que genere variables aletorias Poisson cuya función de distribución de probabilidad esta dada por:\n",
    ">$$P(k,\\lambda)=\\frac{e^{-\\lambda}(\\lambda)^k}{k!}$$\n",
    "    \n",
    "> Demuestre matemáticamente que \n",
    "> $$P(k+1)=\\frac{\\lambda}{k+1}P(k)$$\n",
    "> y a partir de esta relación genere variables aletorias que distribuyen poisson usando el método de la transformada inversa.\n",
    "\n",
    "Enlace: https://es.wikipedia.org/wiki/Distribuci%C3%B3n_de_Poisson"
   ]
  },
  {
   "cell_type": "markdown",
   "metadata": {},
   "source": [
    "### Respuesta"
   ]
  },
  {
   "cell_type": "markdown",
   "metadata": {},
   "source": [
    "$$P(k,\\lambda)=\\frac{e^{-\\lambda}(\\lambda)^k}{k!}$$\n",
    "Para encontrar el número k + 1 es necesario sustituir todas las k por k + 1\n",
    "$$P(k+1,\\lambda)=\\frac{e^{-\\lambda}(\\lambda)^{k+1}}{(k+1)!}$$\n",
    "Utilizando propiedades de los exponentes\n",
    "$$(\\lambda)^{k+1} = \\lambda^k \\lambda \\longrightarrow P(k+1,\\lambda)=\\frac{e^{-\\lambda}\\lambda^k \\lambda}{(k+1)!}$$\n",
    "Utilizando propiedades de los factoriales\n",
    "$$(k+1)! = k!(k+1) \\longrightarrow P(k+1,\\lambda)=\\frac{e^{-\\lambda}\\lambda^k \\lambda}{k!(k+1)}$$\n",
    "Sustituyendo\n",
    "$$P(k,\\lambda)=\\frac{e^{-\\lambda}(\\lambda)^k}{k!} \\longrightarrow P(k+1)=\\frac{\\lambda}{k+1}P(k)$$"
   ]
  },
  {
   "cell_type": "markdown",
   "metadata": {},
   "source": [
    "## <font color ='red'> Ejercicio 2 \n",
    "Partiendo que se desea generar variables aleatorias para la siguiente función de densidad\n",
    "$$f(x)=30(x^2-2x^3+x^4)$$\n",
    "Responda los siguientes literales:"
   ]
  },
  {
   "cell_type": "markdown",
   "metadata": {},
   "source": [
    "### Importación de librerías."
   ]
  },
  {
   "cell_type": "code",
   "execution_count": 2,
   "metadata": {},
   "outputs": [],
   "source": [
    "from scipy import optimize\n",
    "from scipy.stats import beta\n",
    "import matplotlib.pyplot as plt\n",
    "import numpy as np"
   ]
  },
  {
   "cell_type": "markdown",
   "metadata": {},
   "source": [
    "### Parte 1: Usar como función que mayora a $f(x)$ a $t(x)=a \\sin(\\pi x)$ donde a es el máximo de la función $f(x)$ y graficarlas en una misma gráfica, para validar que en realidad si cumple la condición $t(x)\\geq f(x)$."
   ]
  },
  {
   "cell_type": "code",
   "execution_count": 3,
   "metadata": {},
   "outputs": [
    {
     "name": "stdout",
     "output_type": "stream",
     "text": [
      "El máximo de la función es: 1.875\n"
     ]
    },
    {
     "data": {
      "image/png": "[encoded data removed]",
      "text/plain": [
       "<Figure size 432x288 with 1 Axes>"
      ]
     },
     "metadata": {
      "needs_background": "light"
     },
     "output_type": "display_data"
    }
   ],
   "source": [
    "x = np.arange(0,1,0.01)\n",
    "def f(x): return 30*(x**2-2*x**3+x**4)\n",
    "plt.plot(x,f(x),'k')\n",
    "a = float(f(optimize.fmin(lambda x:-f(x),0,disp=False)))\n",
    "print('El máximo de la función es:',a)\n",
    "\n",
    "t = lambda x: a*np.sin(np.pi * x)\n",
    "plt.plot(x,f(x),'k')\n",
    "plt.plot(x,t(x),'b')\n",
    "#R2 = np.random.rand(N)\n",
    "#R1 = np.random.rand(N)\n",
    "\n",
    "#Acep_rechazo(R2,R1,f,t)\n",
    "\n",
    "plt.show()"
   ]
  },
  {
   "cell_type": "markdown",
   "metadata": {},
   "source": [
    "### Parte 2: Encontrar la función de densidad $g(x)$ según lo visto en clase. Reportar todos los cálculos realizados para encontrar dicha función usando Markdown (Latex)."
   ]
  },
  {
   "cell_type": "markdown",
   "metadata": {},
   "source": [
    "$$g(x)=\\frac{t(x)}{c}$$\n",
    "Donde\n",
    "$$c=\\int_{-\\infty}^{\\infty}t(x)dx$$\n",
    "Para obtener la integral de t(x) es necesario acotar los limites de 0 a 1, que es el rango que necesitamos.\n",
    "$$\\int_0^1a\\sin{\\pi x}=\\frac{-a}{\\pi}\\cos{\\pi x}\\Big|_0^1=\\frac{2a}{\\pi}$$\n",
    "Sustituimos en g(x)\n",
    "$$g(x)=\\frac{a\\sin{\\pi x}}{\\frac{2a}{\\pi}}=\\frac{\\pi\\sin{(\\pi x)}}{2}$$"
   ]
  },
  {
   "cell_type": "markdown",
   "metadata": {},
   "source": [
    "### Parte 3: Usar la función encontrada en el punto 2 y utilizar el método de la transformada inversa visto en la clase 9, para generar variables aleatorias que sigan la distribución $g(x)$. **Nota:** Recuerde que el método de la transformada inversa funciona con la distribución de probabilidad acumulada y no con su densidad. Nuevamente similar al punto anterior reportar todos los cálculos usando Markdown (Latex). "
   ]
  },
  {
   "cell_type": "markdown",
   "metadata": {},
   "source": [
    "Obtenemos G(x) integrando g(x)\n",
    "$$G(x)= \\int_0^x{\\frac {\\pi\\sin(\\pi x)}{2}}=\\frac{- \\cos(\\pi x)}{2}\\Big|_0^x\\ = \\frac {- \\cos(\\pi x)}{2} + \\frac {1}{2}$$\n",
    "Igualamos G(x) con U \n",
    "$$U = {- \\cos(\\pi x)\\over 2  }+{1\\over2}$$\n",
    "\n",
    "Despejamos para X\n",
    "$$2U = - \\cos(\\pi x) + 1 \\longrightarrow 1 - 2U=  \\cos(\\pi x)$$ \n",
    "\n",
    "Para eliminar cos, se añade arccos de la otra parte de la ecuación\n",
    "$$x = \\frac{\\cos^{-1} (1-2U)}{\\pi}$$"
   ]
  },
  {
   "cell_type": "markdown",
   "metadata": {},
   "source": [
    "### Parte 4: Según el punto 3, generar 10000 puntos aleatorios que sigan la distribución $g(x)$ y comparar con su histograma para validar que los puntos generados siguen la distribución deseada. "
   ]
  },
  {
   "cell_type": "code",
   "execution_count": 4,
   "metadata": {},
   "outputs": [
    {
     "data": {
      "image/png": "[encoded data removed]",
      "text/plain": [
       "<Figure size 432x288 with 1 Axes>"
      ]
     },
     "metadata": {
      "needs_background": "light"
     },
     "output_type": "display_data"
    }
   ],
   "source": [
    "def G(N):\n",
    "    return np.arccos(1-2*np.random.random(N))/np.pi\n",
    "N = 10**4\n",
    "x= np.arange(0,N,0.01)\n",
    "derivada = (np.pi/2)*np.sin(np.pi*x)\n",
    "x2 = G(N)\n",
    "#Creación del histograma\n",
    "plt.plot(x,derivada, 'r-.')\n",
    "plt.title('Histograma',size = \"20\",color = \"r\")\n",
    "plt.axis([0,1,0,1.75])\n",
    "plt.hist(x2,bins=100,density=True)\n",
    "plt.xlabel('Aleatorios')\n",
    "plt.ylabel('Probabilidad')\n",
    "plt.show()"
   ]
  },
  {
   "cell_type": "markdown",
   "metadata": {},
   "source": [
    "### Parte 5: Genere 500 puntos aleatorios usando el método de aceptación y rechazo y las funciones $f(x)$ y $t(x)$ para validar que todos los cálculos anteriores están correctamente realizados. "
   ]
  },
  {
   "cell_type": "code",
   "execution_count": null,
   "metadata": {},
   "outputs": [],
   "source": []
  },
  {
   "cell_type": "markdown",
   "metadata": {},
   "source": [
    "### Parte 6: Comparar el porcentaje de puntos de aceptación cuando se usa $t(x)$ constante y $t(x)$ un pulso senoidal. Concluir"
   ]
  },
  {
   "cell_type": "code",
   "execution_count": null,
   "metadata": {},
   "outputs": [],
   "source": []
  },
  {
   "cell_type": "markdown",
   "metadata": {},
   "source": [
    "### 7. Genere una variable aleatoria $X$ a partir de la siguiente PDF, usando el método de aceptación y rechazo\n",
    "$$f(x)=20x(1-x)^3$$ \n"
   ]
  },
  {
   "cell_type": "code",
   "execution_count": null,
   "metadata": {},
   "outputs": [],
   "source": []
  }
 ],
 "metadata": {
  "kernelspec": {
   "display_name": "Python 3",
   "language": "python",
   "name": "python3"
  },
  "language_info": {
   "codemirror_mode": {
    "name": "ipython",
    "version": 3
   },
   "file_extension": ".py",
   "mimetype": "text/x-python",
   "name": "python",
   "nbconvert_exporter": "python",
   "pygments_lexer": "ipython3",
   "version": "3.7.4"
  }
 },
 "nbformat": 4,
 "nbformat_minor": 2
}
