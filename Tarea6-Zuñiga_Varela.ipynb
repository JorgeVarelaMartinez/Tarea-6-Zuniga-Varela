{
 "cells": [
  {
   "cell_type": "markdown",
   "metadata": {},
   "source": [
    "<img style=\"float: left; margin: 30px 15px 15px 15px;\" src=\"https://pngimage.net/wp-content/uploads/2018/06/logo-iteso-png-5.png\" width=\"300\" height=\"500\" /> \n",
    "    \n",
    "    \n",
    "### <font color='navy'> Simulación de procesos financieros. \n",
    "\n",
    "**Nombres:** Jorge Zuñiga y Jorge Varela.\n",
    "\n",
    "**Fecha:** 5 de Marzo del 2020.\n",
    "\n",
    "**Expediente** : 713559 y 715444.\n",
    "**Profesor:** Oscar David Jaramillo Zuluaga.\n",
    "\n",
    "# Tarea 6: Clase 9 y 10"
   ]
  },
  {
   "cell_type": "markdown",
   "metadata": {},
   "source": [
    "# Tarea \n",
    "Partiendo que se desea generar variables aleatorias para la siguiente función de densidad\n",
    "$$f(x)=30(x^2-2x^3+x^4)$$\n",
    "Responda los siguientes literales:\n",
    "1. Usar como función que mayora a $f(x)$ a $t(x)=a \\sin(\\pi x)$ donde a es el máximo de la función $f(x)$ y graficarlas en una misma gráfica, para validar que en realidad si cumple la condición $t(x)\\geq f(x)$.\n",
    "2. Encontrar la función de densidad $g(x)$ según lo visto en clase. Reportar todos los cálculos realizados para encontrar dicha función usando Markdown (Latex).\n",
    "3. Usar la función encontrada en el punto 2 y utilizar el método de la transformada inversa visto en la clase 9, para generar variables aleatorias que sigan la distribución $g(x)$. **Nota:** Recuerde que el método de la transformada inversa funciona con la distribución de probabilidad acumulada y no con su densidad. Nuevamente similar al punto anterior reportar todos los cálculos usando Markdown (Latex). \n",
    "4. Según el punto 3, generar 10000 puntos aleatorios que sigan la distribución $g(x)$ y comparar con su histograma para validar que los puntos generados siguen la distribución deseada. El resultado debe ser como sigue:\n",
    "![imagen.png](attachment:imagen.png)\n",
    "5. Genere 500 puntos aleatorios usando el método de aceptación y rechazo y las funciones $f(x)$ y $t(x)$ para validar que todos los cálculos anteriores están correctamente realizados. El resultado debe de ser como sigue:\n",
    "![imagen.png](attachment:imagen.png)\n",
    "6. Comparar el porcentaje de puntos de aceptación cuando se usa $t(x)$ constante y $t(x)$ un pulso senoidal. Concluir\n",
    "7. Genere una variable aleatoria $X$ a partir de la siguiente PDF\n",
    "$$f(x)=20x(1-x)^3$$ \n",
    "usando el método de aceptación y rechazo"
   ]
  },
  {
   "cell_type": "markdown",
   "metadata": {},
   "source": [
    "### Ejercicio 1:\n",
    "$$P(k,\\lambda)=\\frac{e^{-\\lambda}(\\lambda)^k}{k!}$$\n",
    "Para encontrar el número k + 1 es necesario sustituir todas las k por k + 1\n",
    "$$P(k+1,\\lambda)=\\frac{e^{-\\lambda}(\\lambda)^{k+1}}{(k+1)!}$$\n",
    "Utilizando propiedades de los exponentes\n",
    "$$(\\lambda)^{k+1} = \\lambda^k \\lambda \\longrightarrow P(k+1,\\lambda)=\\frac{e^{-\\lambda}\\lambda^k \\lambda}{(k+1)!}$$\n",
    "Utilizando propiedades de los factoriales\n",
    "$$(k+1)! = k!(k+1) \\longrightarrow P(k+1,\\lambda)=\\frac{e^{-\\lambda}\\lambda^k \\lambda}{k!(k+1)}$$\n",
    "Sustituyendo\n",
    "$$P(k,\\lambda)=\\frac{e^{-\\lambda}(\\lambda)^k}{k!} \\longrightarrow P(k+1)=\\frac{\\lambda}{k+1}P(k)$$"
   ]
  },
  {
   "cell_type": "code",
   "execution_count": 2,
   "metadata": {},
   "outputs": [
    {
     "name": "stdout",
     "output_type": "stream",
     "text": [
      "El máximo de la función es: 1.875\n"
     ]
    },
    {
     "data": {
      "image/png": "[encoded data removed]",
      "text/plain": [
       "<Figure size 432x288 with 1 Axes>"
      ]
     },
     "metadata": {
      "needs_background": "light"
     },
     "output_type": "display_data"
    }
   ],
   "source": [
    "#Inciso A \n",
    "from scipy import optimize\n",
    "from scipy.stats import beta\n",
    "import matplotlib.pyplot as plt\n",
    "import numpy as np\n",
    "x = np.arange(0,1,0.01)\n",
    "def f(x): return 30*(x**2-2*x**3+x**4)\n",
    "plt.plot(x,f(x),'k')\n",
    "a = float(f(optimize.fmin(lambda x:-f(x),0,disp=False)))\n",
    "print('El máximo de la función es:',a)\n",
    "\n",
    "t = lambda x: a*np.sin(np.pi * x)\n",
    "plt.plot(x,f(x),'k')\n",
    "plt.plot(x,t(x),'b')\n",
    "#R2 = np.random.rand(N)\n",
    "#R1 = np.random.rand(N)\n",
    "\n",
    "#Acep_rechazo(R2,R1,f,t)\n",
    "\n",
    "plt.show()"
   ]
  },
  {
   "cell_type": "markdown",
   "metadata": {},
   "source": [
    "### Respuesta planteada en el ejercicio usando (markdown)\n",
    " La respuesta es ........."
   ]
  },
  {
   "cell_type": "code",
   "execution_count": null,
   "metadata": {},
   "outputs": [],
   "source": []
  }
 ],
 "metadata": {
  "kernelspec": {
   "display_name": "Python 3",
   "language": "python",
   "name": "python3"
  },
  "language_info": {
   "codemirror_mode": {
    "name": "ipython",
    "version": 3
   },
   "file_extension": ".py",
   "mimetype": "text/x-python",
   "name": "python",
   "nbconvert_exporter": "python",
   "pygments_lexer": "ipython3",
   "version": "3.7.4"
  }
 },
 "nbformat": 4,
 "nbformat_minor": 2
}
